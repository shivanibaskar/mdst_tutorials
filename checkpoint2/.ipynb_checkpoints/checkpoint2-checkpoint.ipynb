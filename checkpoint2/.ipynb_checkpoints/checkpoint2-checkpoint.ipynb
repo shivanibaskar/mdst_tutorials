{
 "cells": [
  {
   "cell_type": "markdown",
   "metadata": {},
   "source": [
    "<h1> Checkpoint:</h1>\n",
    "\n",
    "**Looking to see completetion and effort in completing the checkpoint. It's okay if it's not correct**\n",
    "\n",
    "Based off this dataset with school financial, enrollment, and achievement data, we are interested in what information is a useful indicator of student performance at the state level.\n",
    "\n",
    "This question is a bit too big for a checkpoint, however. Instead, we want you to look at smaller questions related to our overall goal. Here's the overview:\n",
    "\n",
    "1. Choose a specific test to focus on\n",
    ">Math/Reading for 4/8 grade\n",
    "* Pick or create features to use\n",
    ">Will all the features be useful in predicting test score? Are some more important than others? Should you standardize, bin, or scale the data?\n",
    "* Explore the data as it relates to that test\n",
    ">Create 2 well-labeled visualizations (graphs), each with a caption describing the graph and what it tells us about the data\n",
    "* Create training and testing data\n",
    ">Do you want to train on all the data? Only data from the last 10 years? Only Michigan data?\n",
    "* Train a ML model to predict outcome \n",
    ">Pick if you want to do a regression or classification task. For both cases, defined _exactly_ what you want to predict, and pick any model in sklearn to use (see sklearn <a href=\"https://scikit-learn.org/stable/modules/linear_model.html\">regressors</a> and <a href=\"https://scikit-learn.org/stable/auto_examples/classification/plot_classifier_comparison.html\">classifiers</a>).\n",
    "* Summarize your findings\n",
    ">Write a 1 paragraph summary of what you did and make a recommendation about if and how student performance can be predicted\n",
    "\n",
    "** Include comments throughout your code! Every cleanup and preprocessing task should be documented.\n",
    "\n",
    "\n",
    "Of course, if you're finding this assignment interesting (and we really hope you do!), you are welcome to do more than the requirements! For example, you may want to see if expenditure affects 4th graders more than 8th graders. Maybe you want to look into the extended version of this dataset and see how factors like sex and race are involved. You can include all your work in this notebook when you turn it in -- just always make sure you explain what you did and interpret your results. Good luck!"
   ]
  },
  {
   "cell_type": "markdown",
   "metadata": {},
   "source": [
    "<h2> Data Cleanup </h2>\n",
    "\n",
    "Import numpy, pandas, matplotlib, and seaborn\n",
    "\n",
    "(Feel free to import other libraries!)"
   ]
  },
  {
   "cell_type": "code",
   "execution_count": 1,
   "metadata": {},
   "outputs": [],
   "source": [
    "import pandas as pd\n",
    "import numpy as np\n",
    "import matplotlib.pyplot as plt\n",
    "import seaborn as sns\n",
    "\n",
    "# feel free to import other libraries! "
   ]
  },
  {
   "cell_type": "markdown",
   "metadata": {},
   "source": [
    "Load in the \"states_edu.csv\" dataset and take a look at the head of the data"
   ]
  },
  {
   "cell_type": "code",
   "execution_count": 2,
   "metadata": {},
   "outputs": [
    {
     "data": {
      "text/html": [
       "<div>\n",
       "<style scoped>\n",
       "    .dataframe tbody tr th:only-of-type {\n",
       "        vertical-align: middle;\n",
       "    }\n",
       "\n",
       "    .dataframe tbody tr th {\n",
       "        vertical-align: top;\n",
       "    }\n",
       "\n",
       "    .dataframe thead th {\n",
       "        text-align: right;\n",
       "    }\n",
       "</style>\n",
       "<table border=\"1\" class=\"dataframe\">\n",
       "  <thead>\n",
       "    <tr style=\"text-align: right;\">\n",
       "      <th></th>\n",
       "      <th>PRIMARY_KEY</th>\n",
       "      <th>STATE</th>\n",
       "      <th>YEAR</th>\n",
       "      <th>ENROLL</th>\n",
       "      <th>TOTAL_REVENUE</th>\n",
       "      <th>FEDERAL_REVENUE</th>\n",
       "      <th>STATE_REVENUE</th>\n",
       "      <th>LOCAL_REVENUE</th>\n",
       "      <th>TOTAL_EXPENDITURE</th>\n",
       "      <th>INSTRUCTION_EXPENDITURE</th>\n",
       "      <th>...</th>\n",
       "      <th>GRADES_4_G</th>\n",
       "      <th>GRADES_8_G</th>\n",
       "      <th>GRADES_12_G</th>\n",
       "      <th>GRADES_1_8_G</th>\n",
       "      <th>GRADES_9_12_G</th>\n",
       "      <th>GRADES_ALL_G</th>\n",
       "      <th>AVG_MATH_4_SCORE</th>\n",
       "      <th>AVG_MATH_8_SCORE</th>\n",
       "      <th>AVG_READING_4_SCORE</th>\n",
       "      <th>AVG_READING_8_SCORE</th>\n",
       "    </tr>\n",
       "  </thead>\n",
       "  <tbody>\n",
       "    <tr>\n",
       "      <th>0</th>\n",
       "      <td>1992_ALABAMA</td>\n",
       "      <td>ALABAMA</td>\n",
       "      <td>1992</td>\n",
       "      <td>NaN</td>\n",
       "      <td>2678885.0</td>\n",
       "      <td>304177.0</td>\n",
       "      <td>1659028.0</td>\n",
       "      <td>715680.0</td>\n",
       "      <td>2653798.0</td>\n",
       "      <td>1481703.0</td>\n",
       "      <td>...</td>\n",
       "      <td>57948.0</td>\n",
       "      <td>58025.0</td>\n",
       "      <td>41167.0</td>\n",
       "      <td>NaN</td>\n",
       "      <td>NaN</td>\n",
       "      <td>731634.0</td>\n",
       "      <td>208.0</td>\n",
       "      <td>252.0</td>\n",
       "      <td>207.0</td>\n",
       "      <td>NaN</td>\n",
       "    </tr>\n",
       "    <tr>\n",
       "      <th>1</th>\n",
       "      <td>1992_ALASKA</td>\n",
       "      <td>ALASKA</td>\n",
       "      <td>1992</td>\n",
       "      <td>NaN</td>\n",
       "      <td>1049591.0</td>\n",
       "      <td>106780.0</td>\n",
       "      <td>720711.0</td>\n",
       "      <td>222100.0</td>\n",
       "      <td>972488.0</td>\n",
       "      <td>498362.0</td>\n",
       "      <td>...</td>\n",
       "      <td>9748.0</td>\n",
       "      <td>8789.0</td>\n",
       "      <td>6714.0</td>\n",
       "      <td>NaN</td>\n",
       "      <td>NaN</td>\n",
       "      <td>122487.0</td>\n",
       "      <td>NaN</td>\n",
       "      <td>NaN</td>\n",
       "      <td>NaN</td>\n",
       "      <td>NaN</td>\n",
       "    </tr>\n",
       "    <tr>\n",
       "      <th>2</th>\n",
       "      <td>1992_ARIZONA</td>\n",
       "      <td>ARIZONA</td>\n",
       "      <td>1992</td>\n",
       "      <td>NaN</td>\n",
       "      <td>3258079.0</td>\n",
       "      <td>297888.0</td>\n",
       "      <td>1369815.0</td>\n",
       "      <td>1590376.0</td>\n",
       "      <td>3401580.0</td>\n",
       "      <td>1435908.0</td>\n",
       "      <td>...</td>\n",
       "      <td>55433.0</td>\n",
       "      <td>49081.0</td>\n",
       "      <td>37410.0</td>\n",
       "      <td>NaN</td>\n",
       "      <td>NaN</td>\n",
       "      <td>673477.0</td>\n",
       "      <td>215.0</td>\n",
       "      <td>265.0</td>\n",
       "      <td>209.0</td>\n",
       "      <td>NaN</td>\n",
       "    </tr>\n",
       "    <tr>\n",
       "      <th>3</th>\n",
       "      <td>1992_ARKANSAS</td>\n",
       "      <td>ARKANSAS</td>\n",
       "      <td>1992</td>\n",
       "      <td>NaN</td>\n",
       "      <td>1711959.0</td>\n",
       "      <td>178571.0</td>\n",
       "      <td>958785.0</td>\n",
       "      <td>574603.0</td>\n",
       "      <td>1743022.0</td>\n",
       "      <td>964323.0</td>\n",
       "      <td>...</td>\n",
       "      <td>34632.0</td>\n",
       "      <td>36011.0</td>\n",
       "      <td>27651.0</td>\n",
       "      <td>NaN</td>\n",
       "      <td>NaN</td>\n",
       "      <td>441490.0</td>\n",
       "      <td>210.0</td>\n",
       "      <td>256.0</td>\n",
       "      <td>211.0</td>\n",
       "      <td>NaN</td>\n",
       "    </tr>\n",
       "    <tr>\n",
       "      <th>4</th>\n",
       "      <td>1992_CALIFORNIA</td>\n",
       "      <td>CALIFORNIA</td>\n",
       "      <td>1992</td>\n",
       "      <td>NaN</td>\n",
       "      <td>26260025.0</td>\n",
       "      <td>2072470.0</td>\n",
       "      <td>16546514.0</td>\n",
       "      <td>7641041.0</td>\n",
       "      <td>27138832.0</td>\n",
       "      <td>14358922.0</td>\n",
       "      <td>...</td>\n",
       "      <td>418418.0</td>\n",
       "      <td>363296.0</td>\n",
       "      <td>270675.0</td>\n",
       "      <td>NaN</td>\n",
       "      <td>NaN</td>\n",
       "      <td>5254844.0</td>\n",
       "      <td>208.0</td>\n",
       "      <td>261.0</td>\n",
       "      <td>202.0</td>\n",
       "      <td>NaN</td>\n",
       "    </tr>\n",
       "  </tbody>\n",
       "</table>\n",
       "<p>5 rows × 25 columns</p>\n",
       "</div>"
      ],
      "text/plain": [
       "       PRIMARY_KEY       STATE  YEAR  ENROLL  TOTAL_REVENUE  FEDERAL_REVENUE  \\\n",
       "0     1992_ALABAMA     ALABAMA  1992     NaN      2678885.0         304177.0   \n",
       "1      1992_ALASKA      ALASKA  1992     NaN      1049591.0         106780.0   \n",
       "2     1992_ARIZONA     ARIZONA  1992     NaN      3258079.0         297888.0   \n",
       "3    1992_ARKANSAS    ARKANSAS  1992     NaN      1711959.0         178571.0   \n",
       "4  1992_CALIFORNIA  CALIFORNIA  1992     NaN     26260025.0        2072470.0   \n",
       "\n",
       "   STATE_REVENUE  LOCAL_REVENUE  TOTAL_EXPENDITURE  INSTRUCTION_EXPENDITURE  \\\n",
       "0      1659028.0       715680.0          2653798.0                1481703.0   \n",
       "1       720711.0       222100.0           972488.0                 498362.0   \n",
       "2      1369815.0      1590376.0          3401580.0                1435908.0   \n",
       "3       958785.0       574603.0          1743022.0                 964323.0   \n",
       "4     16546514.0      7641041.0         27138832.0               14358922.0   \n",
       "\n",
       "   ...  GRADES_4_G  GRADES_8_G  GRADES_12_G  GRADES_1_8_G  GRADES_9_12_G  \\\n",
       "0  ...     57948.0     58025.0      41167.0           NaN            NaN   \n",
       "1  ...      9748.0      8789.0       6714.0           NaN            NaN   \n",
       "2  ...     55433.0     49081.0      37410.0           NaN            NaN   \n",
       "3  ...     34632.0     36011.0      27651.0           NaN            NaN   \n",
       "4  ...    418418.0    363296.0     270675.0           NaN            NaN   \n",
       "\n",
       "   GRADES_ALL_G  AVG_MATH_4_SCORE  AVG_MATH_8_SCORE  AVG_READING_4_SCORE  \\\n",
       "0      731634.0             208.0             252.0                207.0   \n",
       "1      122487.0               NaN               NaN                  NaN   \n",
       "2      673477.0             215.0             265.0                209.0   \n",
       "3      441490.0             210.0             256.0                211.0   \n",
       "4     5254844.0             208.0             261.0                202.0   \n",
       "\n",
       "   AVG_READING_8_SCORE  \n",
       "0                  NaN  \n",
       "1                  NaN  \n",
       "2                  NaN  \n",
       "3                  NaN  \n",
       "4                  NaN  \n",
       "\n",
       "[5 rows x 25 columns]"
      ]
     },
     "execution_count": 2,
     "metadata": {},
     "output_type": "execute_result"
    }
   ],
   "source": [
    "df = pd.read_csv('../data/states_edu.csv')\n",
    "df.head()"
   ]
  },
  {
   "cell_type": "code",
   "execution_count": 3,
   "metadata": {},
   "outputs": [
    {
     "data": {
      "text/plain": [
       "Index(['PRIMARY_KEY', 'STATE', 'YEAR', 'ENROLL', 'TOTAL_REVENUE',\n",
       "       'FEDERAL_REVENUE', 'STATE_REVENUE', 'LOCAL_REVENUE',\n",
       "       'TOTAL_EXPENDITURE', 'INSTRUCTION_EXPENDITURE',\n",
       "       'SUPPORT_SERVICES_EXPENDITURE', 'OTHER_EXPENDITURE',\n",
       "       'CAPITAL_OUTLAY_EXPENDITURE', 'GRADES_PK_G', 'GRADES_KG_G',\n",
       "       'GRADES_4_G', 'GRADES_8_G', 'GRADES_12_G', 'GRADES_1_8_G',\n",
       "       'GRADES_9_12_G', 'GRADES_ALL_G', 'AVG_MATH_4_SCORE', 'AVG_MATH_8_SCORE',\n",
       "       'AVG_READING_4_SCORE', 'AVG_READING_8_SCORE'],\n",
       "      dtype='object')"
      ]
     },
     "execution_count": 3,
     "metadata": {},
     "output_type": "execute_result"
    }
   ],
   "source": [
    "df.columns"
   ]
  },
  {
   "cell_type": "code",
   "execution_count": 4,
   "metadata": {},
   "outputs": [
    {
     "name": "stdout",
     "output_type": "stream",
     "text": [
      "<class 'pandas.core.frame.DataFrame'>\n",
      "RangeIndex: 1715 entries, 0 to 1714\n",
      "Data columns (total 25 columns):\n",
      " #   Column                        Non-Null Count  Dtype  \n",
      "---  ------                        --------------  -----  \n",
      " 0   PRIMARY_KEY                   1715 non-null   object \n",
      " 1   STATE                         1715 non-null   object \n",
      " 2   YEAR                          1715 non-null   int64  \n",
      " 3   ENROLL                        1224 non-null   float64\n",
      " 4   TOTAL_REVENUE                 1275 non-null   float64\n",
      " 5   FEDERAL_REVENUE               1275 non-null   float64\n",
      " 6   STATE_REVENUE                 1275 non-null   float64\n",
      " 7   LOCAL_REVENUE                 1275 non-null   float64\n",
      " 8   TOTAL_EXPENDITURE             1275 non-null   float64\n",
      " 9   INSTRUCTION_EXPENDITURE       1275 non-null   float64\n",
      " 10  SUPPORT_SERVICES_EXPENDITURE  1275 non-null   float64\n",
      " 11  OTHER_EXPENDITURE             1224 non-null   float64\n",
      " 12  CAPITAL_OUTLAY_EXPENDITURE    1275 non-null   float64\n",
      " 13  GRADES_PK_G                   1542 non-null   float64\n",
      " 14  GRADES_KG_G                   1632 non-null   float64\n",
      " 15  GRADES_4_G                    1632 non-null   float64\n",
      " 16  GRADES_8_G                    1632 non-null   float64\n",
      " 17  GRADES_12_G                   1632 non-null   float64\n",
      " 18  GRADES_1_8_G                  1020 non-null   float64\n",
      " 19  GRADES_9_12_G                 1071 non-null   float64\n",
      " 20  GRADES_ALL_G                  1632 non-null   float64\n",
      " 21  AVG_MATH_4_SCORE              565 non-null    float64\n",
      " 22  AVG_MATH_8_SCORE              602 non-null    float64\n",
      " 23  AVG_READING_4_SCORE           650 non-null    float64\n",
      " 24  AVG_READING_8_SCORE           562 non-null    float64\n",
      "dtypes: float64(22), int64(1), object(2)\n",
      "memory usage: 335.1+ KB\n"
     ]
    }
   ],
   "source": [
    "df.info()"
   ]
  },
  {
   "cell_type": "markdown",
   "metadata": {},
   "source": [
    "You should always familiarize yourself with what each column in the dataframe represents. \\ Read about the states_edu dataset here: https://www.kaggle.com/noriuk/us-education-datasets-unification-project"
   ]
  },
  {
   "cell_type": "markdown",
   "metadata": {},
   "source": [
    "Use this space to rename columns, deal with missing data, etc. _(optional)_"
   ]
  },
  {
   "cell_type": "markdown",
   "metadata": {},
   "source": [
    "From the information about the columns from kaggle I'm changing the names of the columns to be more intutive."
   ]
  },
  {
   "cell_type": "code",
   "execution_count": 5,
   "metadata": {},
   "outputs": [],
   "source": [
    "df.rename({\n",
    "    'GRADES_PK_G':'NUM_IN_PREKG',\n",
    "    'GRADES_KG_G':'NUM_IN_KINDER',\n",
    "    'GRADES_4_G':'NUM_IN_4TH_GRADE',\n",
    "    'GRADES_8_G':'NUM_IN_8TH_GRADE',\n",
    "    'GRADES_12_G':'NUM_IN_12TH_GRADE',\n",
    "    'GRADES_1_8_G':'TOTAL_ENROLLED_IN_PRIMARY',\n",
    "    'GRADES_9_12_G':'TOTAL_ENROLLED_IN_HS',\n",
    "    'GRADES_ALL_G':'TOTAL_ENROLLED',\n",
    "    'ENROLL':'TOTAL_ENROLLED_ESTIMATE'\n",
    "    },\n",
    "    axis=1,inplace=True)"
   ]
  },
  {
   "cell_type": "code",
   "execution_count": 6,
   "metadata": {},
   "outputs": [
    {
     "name": "stdout",
     "output_type": "stream",
     "text": [
      "Index(['STATE', 'YEAR', 'TOTAL_ENROLLED_ESTIMATE', 'TOTAL_REVENUE',\n",
      "       'FEDERAL_REVENUE', 'STATE_REVENUE', 'LOCAL_REVENUE',\n",
      "       'TOTAL_EXPENDITURE', 'INSTRUCTION_EXPENDITURE',\n",
      "       'SUPPORT_SERVICES_EXPENDITURE', 'OTHER_EXPENDITURE',\n",
      "       'CAPITAL_OUTLAY_EXPENDITURE', 'NUM_IN_PREKG', 'NUM_IN_KINDER',\n",
      "       'NUM_IN_4TH_GRADE', 'NUM_IN_8TH_GRADE', 'NUM_IN_12TH_GRADE',\n",
      "       'TOTAL_ENROLLED_IN_PRIMARY', 'TOTAL_ENROLLED_IN_HS', 'TOTAL_ENROLLED',\n",
      "       'AVG_MATH_4_SCORE', 'AVG_MATH_8_SCORE', 'AVG_READING_4_SCORE',\n",
      "       'AVG_READING_8_SCORE'],\n",
      "      dtype='object')\n"
     ]
    }
   ],
   "source": [
    "#primary key is basically the combination of the columns state and year so we are removing the column \"PRIMARY_KEY\"\n",
    "cleaned_df=df.drop(['PRIMARY_KEY'], axis=1)\n",
    "print(cleaned_df.columns)"
   ]
  },
  {
   "cell_type": "markdown",
   "metadata": {},
   "source": [
    "The feature we are interested in is the Average reading score of class 4 students.\n",
    "\n",
    "So we check the number of missing values in the column"
   ]
  },
  {
   "cell_type": "code",
   "execution_count": 7,
   "metadata": {},
   "outputs": [
    {
     "data": {
      "text/plain": [
       "1065"
      ]
     },
     "execution_count": 7,
     "metadata": {},
     "output_type": "execute_result"
    }
   ],
   "source": [
    "cleaned_df[\"AVG_READING_4_SCORE\"].isna().sum()"
   ]
  },
  {
   "cell_type": "markdown",
   "metadata": {},
   "source": [
    "The column that we are interested in has almost 1065 missing values.\n",
    "\n",
    "If we fill in this many missing values with mean or median or mode of the data we will skew the data to a large extent.\n",
    "\n",
    "So we remove the rows that has no value for the 'AVG_READING_4_SCORE' column"
   ]
  },
  {
   "cell_type": "code",
   "execution_count": 33,
   "metadata": {},
   "outputs": [
    {
     "name": "stdout",
     "output_type": "stream",
     "text": [
      "<class 'pandas.core.frame.DataFrame'>\n",
      "Int64Index: 355 entries, 561 to 1223\n",
      "Data columns (total 24 columns):\n",
      " #   Column                        Non-Null Count  Dtype  \n",
      "---  ------                        --------------  -----  \n",
      " 0   STATE                         355 non-null    object \n",
      " 1   YEAR                          355 non-null    int64  \n",
      " 2   TOTAL_ENROLLED_ESTIMATE       355 non-null    float64\n",
      " 3   TOTAL_REVENUE                 355 non-null    float64\n",
      " 4   FEDERAL_REVENUE               355 non-null    float64\n",
      " 5   STATE_REVENUE                 355 non-null    float64\n",
      " 6   LOCAL_REVENUE                 355 non-null    float64\n",
      " 7   TOTAL_EXPENDITURE             355 non-null    float64\n",
      " 8   INSTRUCTION_EXPENDITURE       355 non-null    float64\n",
      " 9   SUPPORT_SERVICES_EXPENDITURE  355 non-null    float64\n",
      " 10  OTHER_EXPENDITURE             355 non-null    float64\n",
      " 11  CAPITAL_OUTLAY_EXPENDITURE    355 non-null    float64\n",
      " 12  NUM_IN_PREKG                  355 non-null    float64\n",
      " 13  NUM_IN_KINDER                 355 non-null    float64\n",
      " 14  NUM_IN_4TH_GRADE              355 non-null    float64\n",
      " 15  NUM_IN_8TH_GRADE              355 non-null    float64\n",
      " 16  NUM_IN_12TH_GRADE             355 non-null    float64\n",
      " 17  TOTAL_ENROLLED_IN_PRIMARY     355 non-null    float64\n",
      " 18  TOTAL_ENROLLED_IN_HS          355 non-null    float64\n",
      " 19  TOTAL_ENROLLED                355 non-null    float64\n",
      " 20  AVG_MATH_4_SCORE              355 non-null    float64\n",
      " 21  AVG_MATH_8_SCORE              355 non-null    float64\n",
      " 22  AVG_READING_4_SCORE           355 non-null    float64\n",
      " 23  AVG_READING_8_SCORE           355 non-null    float64\n",
      "dtypes: float64(22), int64(1), object(1)\n",
      "memory usage: 69.3+ KB\n",
      "None\n"
     ]
    }
   ],
   "source": [
    "cleaned_df.dropna(subset=['AVG_READING_4_SCORE'], inplace=True)\n",
    "cleaned_df.dropna(inplace=True)\n",
    "print(cleaned_df.info())"
   ]
  },
  {
   "cell_type": "markdown",
   "metadata": {},
   "source": [
    "<h2>Exploratory Data Analysis (EDA) </h2>"
   ]
  },
  {
   "cell_type": "markdown",
   "metadata": {},
   "source": [
    "Chosen Predictor for Test: **Reading for 4th grade**   \n",
    "\n",
    "Predictor Score in the questions refers to the predictor variable you chose here."
   ]
  },
  {
   "cell_type": "markdown",
   "metadata": {},
   "source": [
    "How many different years of data are in our dataset? Use a pandas function."
   ]
  },
  {
   "cell_type": "markdown",
   "metadata": {},
   "source": [
    "**For the original dataset**"
   ]
  },
  {
   "cell_type": "code",
   "execution_count": 34,
   "metadata": {},
   "outputs": [
    {
     "data": {
      "text/plain": [
       "33"
      ]
     },
     "execution_count": 34,
     "metadata": {},
     "output_type": "execute_result"
    }
   ],
   "source": [
    "df[\"YEAR\"].nunique()"
   ]
  },
  {
   "cell_type": "markdown",
   "metadata": {},
   "source": [
    "**For the cleaned dataset**"
   ]
  },
  {
   "cell_type": "code",
   "execution_count": 35,
   "metadata": {},
   "outputs": [
    {
     "data": {
      "text/plain": [
       "7"
      ]
     },
     "execution_count": 35,
     "metadata": {},
     "output_type": "execute_result"
    }
   ],
   "source": [
    "cleaned_df[\"YEAR\"].nunique()"
   ]
  },
  {
   "cell_type": "markdown",
   "metadata": {},
   "source": [
    "Let's compare Michigan to Ohio. Which state has the higher average predictor score across all years?"
   ]
  },
  {
   "cell_type": "markdown",
   "metadata": {},
   "source": [
    "**For the original dataset**"
   ]
  },
  {
   "cell_type": "code",
   "execution_count": 36,
   "metadata": {},
   "outputs": [
    {
     "name": "stdout",
     "output_type": "stream",
     "text": [
      "Michigan's average score for fourth graders taking the NAEP reading exam:  217.83333333333334\n",
      "Ohio's average score for fourth graders taking the NAEP reading exam:  223.1818181818182\n"
     ]
    }
   ],
   "source": [
    "group=df.groupby(\"STATE\")\n",
    "michigan_4th_grade_reading_score=group.get_group(\"MICHIGAN\")[\"AVG_READING_4_SCORE\"].mean()\n",
    "ohio_4th_grade_reading_score=group.get_group(\"OHIO\")[\"AVG_READING_4_SCORE\"].mean()\n",
    "print(\"Michigan's average score for fourth graders taking the NAEP reading exam: \",michigan_4th_grade_reading_score)\n",
    "print(\"Ohio's average score for fourth graders taking the NAEP reading exam: \",ohio_4th_grade_reading_score)"
   ]
  },
  {
   "cell_type": "markdown",
   "metadata": {},
   "source": [
    "We see from the output that OHIO has a the higher average predictor score across all years"
   ]
  },
  {
   "cell_type": "markdown",
   "metadata": {},
   "source": [
    "**For the cleaned dataset**"
   ]
  },
  {
   "cell_type": "code",
   "execution_count": 37,
   "metadata": {},
   "outputs": [
    {
     "name": "stdout",
     "output_type": "stream",
     "text": [
      "Michigan's average score for fourth graders taking the NAEP reading exam:  218.14285714285714\n",
      "Ohio's average score for fourth graders taking the NAEP reading exam:  224.14285714285714\n"
     ]
    }
   ],
   "source": [
    "group=cleaned_df.groupby(\"STATE\")\n",
    "michigan_4th_grade_reading_score=group.get_group(\"MICHIGAN\")[\"AVG_READING_4_SCORE\"].mean()\n",
    "ohio_4th_grade_reading_score=group.get_group(\"OHIO\")[\"AVG_READING_4_SCORE\"].mean()\n",
    "print(\"Michigan's average score for fourth graders taking the NAEP reading exam: \",michigan_4th_grade_reading_score)\n",
    "print(\"Ohio's average score for fourth graders taking the NAEP reading exam: \",ohio_4th_grade_reading_score)"
   ]
  },
  {
   "cell_type": "markdown",
   "metadata": {},
   "source": [
    "Find the average for your pedictor score across all states in 2019"
   ]
  },
  {
   "cell_type": "markdown",
   "metadata": {},
   "source": [
    "**For the original dataset**"
   ]
  },
  {
   "cell_type": "code",
   "execution_count": 38,
   "metadata": {},
   "outputs": [
    {
     "name": "stdout",
     "output_type": "stream",
     "text": [
      "YEAR\n",
      "1986           NaN\n",
      "1987           NaN\n",
      "1988           NaN\n",
      "1989           NaN\n",
      "1990           NaN\n",
      "1991           NaN\n",
      "1992    215.372093\n",
      "1993           NaN\n",
      "1994    212.707317\n",
      "1995           NaN\n",
      "1996           NaN\n",
      "1997           NaN\n",
      "1998    213.523810\n",
      "1999           NaN\n",
      "2000    213.000000\n",
      "2001           NaN\n",
      "2002    217.847826\n",
      "2003    217.566038\n",
      "2004           NaN\n",
      "2005    218.245283\n",
      "2006           NaN\n",
      "2007    220.547170\n",
      "2008           NaN\n",
      "2009    220.377358\n",
      "2010           NaN\n",
      "2011    220.358491\n",
      "2012           NaN\n",
      "2013    221.320755\n",
      "2014           NaN\n",
      "2015    222.339623\n",
      "2016           NaN\n",
      "2017    221.339623\n",
      "2019    219.792453\n",
      "Name: AVG_READING_4_SCORE, dtype: float64\n"
     ]
    }
   ],
   "source": [
    "group=df.groupby(\"YEAR\")[\"AVG_READING_4_SCORE\"].mean()\n",
    "print(group)"
   ]
  },
  {
   "cell_type": "markdown",
   "metadata": {},
   "source": [
    "**For the cleaned dataset**\n"
   ]
  },
  {
   "cell_type": "code",
   "execution_count": 39,
   "metadata": {},
   "outputs": [
    {
     "name": "stdout",
     "output_type": "stream",
     "text": [
      "YEAR\n",
      "2003    217.431373\n",
      "2005    218.078431\n",
      "2007    220.372549\n",
      "2009    220.215686\n",
      "2011    220.176471\n",
      "2013    221.098039\n",
      "2015    222.326531\n",
      "Name: AVG_READING_4_SCORE, dtype: float64\n"
     ]
    }
   ],
   "source": [
    "group=cleaned_df.groupby(\"YEAR\")[\"AVG_READING_4_SCORE\"].mean()\n",
    "print(group)"
   ]
  },
  {
   "cell_type": "markdown",
   "metadata": {},
   "source": [
    "Find the maximum predictor score for every state. Hint: there's a function that allows you to do this easily"
   ]
  },
  {
   "cell_type": "markdown",
   "metadata": {},
   "source": [
    "**For the original dataset**"
   ]
  },
  {
   "cell_type": "code",
   "execution_count": 40,
   "metadata": {},
   "outputs": [
    {
     "name": "stdout",
     "output_type": "stream",
     "text": [
      "STATE\n",
      "ALABAMA                 220.0\n",
      "ALASKA                  214.0\n",
      "ARIZONA                 216.0\n",
      "ARKANSAS                219.0\n",
      "CALIFORNIA              216.0\n",
      "COLORADO                227.0\n",
      "CONNECTICUT             230.0\n",
      "DELAWARE                226.0\n",
      "DISTRICT_OF_COLUMBIA    214.0\n",
      "DODEA                   235.0\n",
      "FLORIDA                 228.0\n",
      "GEORGIA                 222.0\n",
      "HAWAII                  218.0\n",
      "IDAHO                   223.0\n",
      "ILLINOIS                222.0\n",
      "INDIANA                 227.0\n",
      "IOWA                    225.0\n",
      "KANSAS                  225.0\n",
      "KENTUCKY                228.0\n",
      "LOUISIANA               216.0\n",
      "MAINE                   228.0\n",
      "MARYLAND                232.0\n",
      "MASSACHUSETTS           237.0\n",
      "MICHIGAN                220.0\n",
      "MINNESOTA               227.0\n",
      "MISSISSIPPI             219.0\n",
      "MISSOURI                224.0\n",
      "MONTANA                 227.0\n",
      "NATIONAL                223.0\n",
      "NEBRASKA                227.0\n",
      "NEVADA                  218.0\n",
      "NEW_HAMPSHIRE           232.0\n",
      "NEW_JERSEY              233.0\n",
      "NEW_MEXICO              212.0\n",
      "NEW_YORK                224.0\n",
      "NORTH_CAROLINA          226.0\n",
      "NORTH_DAKOTA            226.0\n",
      "OHIO                    226.0\n",
      "OKLAHOMA                222.0\n",
      "OREGON                  220.0\n",
      "PENNSYLVANIA            227.0\n",
      "RHODE_ISLAND            225.0\n",
      "SOUTH_CAROLINA          218.0\n",
      "SOUTH_DAKOTA            223.0\n",
      "TENNESSEE               220.0\n",
      "TEXAS                   220.0\n",
      "UTAH                    226.0\n",
      "VERMONT                 230.0\n",
      "VIRGINIA                229.0\n",
      "WASHINGTON              226.0\n",
      "WEST_VIRGINIA           219.0\n",
      "WISCONSIN               224.0\n",
      "WYOMING                 228.0\n",
      "Name: AVG_READING_4_SCORE, dtype: float64\n"
     ]
    }
   ],
   "source": [
    "group=df.groupby(\"STATE\")[\"AVG_READING_4_SCORE\"].max()\n",
    "print(group)"
   ]
  },
  {
   "cell_type": "markdown",
   "metadata": {},
   "source": [
    "**For the cleaned dataset**"
   ]
  },
  {
   "cell_type": "code",
   "execution_count": 41,
   "metadata": {},
   "outputs": [
    {
     "name": "stdout",
     "output_type": "stream",
     "text": [
      "STATE\n",
      "ALABAMA                 220.0\n",
      "ALASKA                  214.0\n",
      "ARIZONA                 215.0\n",
      "ARKANSAS                219.0\n",
      "CALIFORNIA              213.0\n",
      "COLORADO                227.0\n",
      "CONNECTICUT             230.0\n",
      "DELAWARE                226.0\n",
      "DISTRICT_OF_COLUMBIA    212.0\n",
      "FLORIDA                 227.0\n",
      "GEORGIA                 222.0\n",
      "HAWAII                  215.0\n",
      "IDAHO                   223.0\n",
      "ILLINOIS                222.0\n",
      "INDIANA                 227.0\n",
      "IOWA                    225.0\n",
      "KANSAS                  225.0\n",
      "KENTUCKY                228.0\n",
      "LOUISIANA               216.0\n",
      "MAINE                   226.0\n",
      "MARYLAND                232.0\n",
      "MASSACHUSETTS           237.0\n",
      "MICHIGAN                220.0\n",
      "MINNESOTA               227.0\n",
      "MISSISSIPPI             214.0\n",
      "MISSOURI                224.0\n",
      "MONTANA                 227.0\n",
      "NEBRASKA                227.0\n",
      "NEVADA                  214.0\n",
      "NEW_HAMPSHIRE           232.0\n",
      "NEW_JERSEY              231.0\n",
      "NEW_MEXICO              212.0\n",
      "NEW_YORK                224.0\n",
      "NORTH_CAROLINA          226.0\n",
      "NORTH_DAKOTA            226.0\n",
      "OHIO                    226.0\n",
      "OKLAHOMA                222.0\n",
      "OREGON                  219.0\n",
      "PENNSYLVANIA            227.0\n",
      "RHODE_ISLAND            225.0\n",
      "SOUTH_CAROLINA          218.0\n",
      "SOUTH_DAKOTA            223.0\n",
      "TENNESSEE               220.0\n",
      "TEXAS                   220.0\n",
      "UTAH                    226.0\n",
      "VERMONT                 230.0\n",
      "VIRGINIA                229.0\n",
      "WASHINGTON              226.0\n",
      "WEST_VIRGINIA           219.0\n",
      "WISCONSIN               223.0\n",
      "WYOMING                 228.0\n",
      "Name: AVG_READING_4_SCORE, dtype: float64\n"
     ]
    }
   ],
   "source": [
    "group=cleaned_df.groupby(\"STATE\")[\"AVG_READING_4_SCORE\"].max()\n",
    "print(group)"
   ]
  },
  {
   "cell_type": "markdown",
   "metadata": {},
   "source": [
    "<h2> Feature Selection </h2>\n",
    "\n",
    "After exploring the data, you now have to choose features that you would use to predict the performance of the students on a chosen test (your chosen predictor). By the way, you can also create your own features. For example, perhaps you figured that maybe a state's expenditure per student may affect their overall academic performance so you create a expenditure_per_student feature.\n",
    "\n",
    "Use this space to modify or create features"
   ]
  },
  {
   "cell_type": "code",
   "execution_count": 42,
   "metadata": {},
   "outputs": [
    {
     "data": {
      "text/html": [
       "<div>\n",
       "<style scoped>\n",
       "    .dataframe tbody tr th:only-of-type {\n",
       "        vertical-align: middle;\n",
       "    }\n",
       "\n",
       "    .dataframe tbody tr th {\n",
       "        vertical-align: top;\n",
       "    }\n",
       "\n",
       "    .dataframe thead th {\n",
       "        text-align: right;\n",
       "    }\n",
       "</style>\n",
       "<table border=\"1\" class=\"dataframe\">\n",
       "  <thead>\n",
       "    <tr style=\"text-align: right;\">\n",
       "      <th></th>\n",
       "      <th>YEAR</th>\n",
       "      <th>TOTAL_ENROLLED_ESTIMATE</th>\n",
       "      <th>TOTAL_REVENUE</th>\n",
       "      <th>FEDERAL_REVENUE</th>\n",
       "      <th>STATE_REVENUE</th>\n",
       "      <th>LOCAL_REVENUE</th>\n",
       "      <th>TOTAL_EXPENDITURE</th>\n",
       "      <th>INSTRUCTION_EXPENDITURE</th>\n",
       "      <th>SUPPORT_SERVICES_EXPENDITURE</th>\n",
       "      <th>OTHER_EXPENDITURE</th>\n",
       "      <th>...</th>\n",
       "      <th>NUM_IN_4TH_GRADE</th>\n",
       "      <th>NUM_IN_8TH_GRADE</th>\n",
       "      <th>NUM_IN_12TH_GRADE</th>\n",
       "      <th>TOTAL_ENROLLED_IN_PRIMARY</th>\n",
       "      <th>TOTAL_ENROLLED_IN_HS</th>\n",
       "      <th>TOTAL_ENROLLED</th>\n",
       "      <th>AVG_MATH_4_SCORE</th>\n",
       "      <th>AVG_MATH_8_SCORE</th>\n",
       "      <th>AVG_READING_4_SCORE</th>\n",
       "      <th>AVG_READING_8_SCORE</th>\n",
       "    </tr>\n",
       "  </thead>\n",
       "  <tbody>\n",
       "    <tr>\n",
       "      <th>YEAR</th>\n",
       "      <td>1.000000</td>\n",
       "      <td>-0.015314</td>\n",
       "      <td>0.074545</td>\n",
       "      <td>0.082366</td>\n",
       "      <td>0.056791</td>\n",
       "      <td>0.084071</td>\n",
       "      <td>0.065000</td>\n",
       "      <td>0.077318</td>\n",
       "      <td>0.080334</td>\n",
       "      <td>0.068537</td>\n",
       "      <td>...</td>\n",
       "      <td>-0.005796</td>\n",
       "      <td>-0.025348</td>\n",
       "      <td>0.017019</td>\n",
       "      <td>-0.011034</td>\n",
       "      <td>-0.011126</td>\n",
       "      <td>-0.009205</td>\n",
       "      <td>0.332133</td>\n",
       "      <td>0.258601</td>\n",
       "      <td>0.208932</td>\n",
       "      <td>0.207188</td>\n",
       "    </tr>\n",
       "    <tr>\n",
       "      <th>TOTAL_ENROLLED_ESTIMATE</th>\n",
       "      <td>-0.015314</td>\n",
       "      <td>1.000000</td>\n",
       "      <td>0.940688</td>\n",
       "      <td>0.953046</td>\n",
       "      <td>0.936003</td>\n",
       "      <td>0.866948</td>\n",
       "      <td>0.943594</td>\n",
       "      <td>0.897082</td>\n",
       "      <td>0.948572</td>\n",
       "      <td>0.976054</td>\n",
       "      <td>...</td>\n",
       "      <td>0.998722</td>\n",
       "      <td>0.998956</td>\n",
       "      <td>0.989407</td>\n",
       "      <td>0.999066</td>\n",
       "      <td>0.997715</td>\n",
       "      <td>0.999518</td>\n",
       "      <td>-0.014968</td>\n",
       "      <td>-0.043261</td>\n",
       "      <td>-0.051627</td>\n",
       "      <td>-0.112736</td>\n",
       "    </tr>\n",
       "    <tr>\n",
       "      <th>TOTAL_REVENUE</th>\n",
       "      <td>0.074545</td>\n",
       "      <td>0.940688</td>\n",
       "      <td>1.000000</td>\n",
       "      <td>0.920766</td>\n",
       "      <td>0.971510</td>\n",
       "      <td>0.964275</td>\n",
       "      <td>0.999075</td>\n",
       "      <td>0.988895</td>\n",
       "      <td>0.994445</td>\n",
       "      <td>0.941214</td>\n",
       "      <td>...</td>\n",
       "      <td>0.934486</td>\n",
       "      <td>0.936664</td>\n",
       "      <td>0.946858</td>\n",
       "      <td>0.934290</td>\n",
       "      <td>0.945823</td>\n",
       "      <td>0.939751</td>\n",
       "      <td>0.064045</td>\n",
       "      <td>0.040346</td>\n",
       "      <td>0.049732</td>\n",
       "      <td>-0.011189</td>\n",
       "    </tr>\n",
       "    <tr>\n",
       "      <th>FEDERAL_REVENUE</th>\n",
       "      <td>0.082366</td>\n",
       "      <td>0.953046</td>\n",
       "      <td>0.920766</td>\n",
       "      <td>1.000000</td>\n",
       "      <td>0.919437</td>\n",
       "      <td>0.830976</td>\n",
       "      <td>0.920694</td>\n",
       "      <td>0.878698</td>\n",
       "      <td>0.924303</td>\n",
       "      <td>0.954431</td>\n",
       "      <td>...</td>\n",
       "      <td>0.951680</td>\n",
       "      <td>0.948299</td>\n",
       "      <td>0.959721</td>\n",
       "      <td>0.950603</td>\n",
       "      <td>0.955259</td>\n",
       "      <td>0.952218</td>\n",
       "      <td>-0.041481</td>\n",
       "      <td>-0.065495</td>\n",
       "      <td>-0.095399</td>\n",
       "      <td>-0.141952</td>\n",
       "    </tr>\n",
       "    <tr>\n",
       "      <th>STATE_REVENUE</th>\n",
       "      <td>0.056791</td>\n",
       "      <td>0.936003</td>\n",
       "      <td>0.971510</td>\n",
       "      <td>0.919437</td>\n",
       "      <td>1.000000</td>\n",
       "      <td>0.877020</td>\n",
       "      <td>0.969901</td>\n",
       "      <td>0.952168</td>\n",
       "      <td>0.966262</td>\n",
       "      <td>0.942671</td>\n",
       "      <td>...</td>\n",
       "      <td>0.928967</td>\n",
       "      <td>0.933368</td>\n",
       "      <td>0.951854</td>\n",
       "      <td>0.928415</td>\n",
       "      <td>0.945752</td>\n",
       "      <td>0.933367</td>\n",
       "      <td>0.025687</td>\n",
       "      <td>-0.004011</td>\n",
       "      <td>-0.008202</td>\n",
       "      <td>-0.065528</td>\n",
       "    </tr>\n",
       "    <tr>\n",
       "      <th>LOCAL_REVENUE</th>\n",
       "      <td>0.084071</td>\n",
       "      <td>0.866948</td>\n",
       "      <td>0.964275</td>\n",
       "      <td>0.830976</td>\n",
       "      <td>0.877020</td>\n",
       "      <td>1.000000</td>\n",
       "      <td>0.963903</td>\n",
       "      <td>0.968711</td>\n",
       "      <td>0.956913</td>\n",
       "      <td>0.861296</td>\n",
       "      <td>...</td>\n",
       "      <td>0.861011</td>\n",
       "      <td>0.862056</td>\n",
       "      <td>0.863133</td>\n",
       "      <td>0.861365</td>\n",
       "      <td>0.867828</td>\n",
       "      <td>0.867709</td>\n",
       "      <td>0.118781</td>\n",
       "      <td>0.102867</td>\n",
       "      <td>0.133112</td>\n",
       "      <td>0.070512</td>\n",
       "    </tr>\n",
       "    <tr>\n",
       "      <th>TOTAL_EXPENDITURE</th>\n",
       "      <td>0.065000</td>\n",
       "      <td>0.943594</td>\n",
       "      <td>0.999075</td>\n",
       "      <td>0.920694</td>\n",
       "      <td>0.969901</td>\n",
       "      <td>0.963903</td>\n",
       "      <td>1.000000</td>\n",
       "      <td>0.989244</td>\n",
       "      <td>0.993013</td>\n",
       "      <td>0.941769</td>\n",
       "      <td>...</td>\n",
       "      <td>0.937332</td>\n",
       "      <td>0.939274</td>\n",
       "      <td>0.947142</td>\n",
       "      <td>0.937155</td>\n",
       "      <td>0.947626</td>\n",
       "      <td>0.942548</td>\n",
       "      <td>0.059103</td>\n",
       "      <td>0.036923</td>\n",
       "      <td>0.045667</td>\n",
       "      <td>-0.016395</td>\n",
       "    </tr>\n",
       "    <tr>\n",
       "      <th>INSTRUCTION_EXPENDITURE</th>\n",
       "      <td>0.077318</td>\n",
       "      <td>0.897082</td>\n",
       "      <td>0.988895</td>\n",
       "      <td>0.878698</td>\n",
       "      <td>0.952168</td>\n",
       "      <td>0.968711</td>\n",
       "      <td>0.989244</td>\n",
       "      <td>1.000000</td>\n",
       "      <td>0.973395</td>\n",
       "      <td>0.896064</td>\n",
       "      <td>...</td>\n",
       "      <td>0.888982</td>\n",
       "      <td>0.892087</td>\n",
       "      <td>0.900579</td>\n",
       "      <td>0.889053</td>\n",
       "      <td>0.901358</td>\n",
       "      <td>0.895522</td>\n",
       "      <td>0.069731</td>\n",
       "      <td>0.046886</td>\n",
       "      <td>0.072567</td>\n",
       "      <td>0.007060</td>\n",
       "    </tr>\n",
       "    <tr>\n",
       "      <th>SUPPORT_SERVICES_EXPENDITURE</th>\n",
       "      <td>0.080334</td>\n",
       "      <td>0.948572</td>\n",
       "      <td>0.994445</td>\n",
       "      <td>0.924303</td>\n",
       "      <td>0.966262</td>\n",
       "      <td>0.956913</td>\n",
       "      <td>0.993013</td>\n",
       "      <td>0.973395</td>\n",
       "      <td>1.000000</td>\n",
       "      <td>0.949354</td>\n",
       "      <td>...</td>\n",
       "      <td>0.942405</td>\n",
       "      <td>0.944723</td>\n",
       "      <td>0.956452</td>\n",
       "      <td>0.942147</td>\n",
       "      <td>0.953852</td>\n",
       "      <td>0.947412</td>\n",
       "      <td>0.062900</td>\n",
       "      <td>0.040822</td>\n",
       "      <td>0.048620</td>\n",
       "      <td>-0.008174</td>\n",
       "    </tr>\n",
       "    <tr>\n",
       "      <th>OTHER_EXPENDITURE</th>\n",
       "      <td>0.068537</td>\n",
       "      <td>0.976054</td>\n",
       "      <td>0.941214</td>\n",
       "      <td>0.954431</td>\n",
       "      <td>0.942671</td>\n",
       "      <td>0.861296</td>\n",
       "      <td>0.941769</td>\n",
       "      <td>0.896064</td>\n",
       "      <td>0.949354</td>\n",
       "      <td>1.000000</td>\n",
       "      <td>...</td>\n",
       "      <td>0.974727</td>\n",
       "      <td>0.973754</td>\n",
       "      <td>0.979821</td>\n",
       "      <td>0.974401</td>\n",
       "      <td>0.978478</td>\n",
       "      <td>0.975790</td>\n",
       "      <td>0.016915</td>\n",
       "      <td>-0.026509</td>\n",
       "      <td>-0.025062</td>\n",
       "      <td>-0.093728</td>\n",
       "    </tr>\n",
       "    <tr>\n",
       "      <th>CAPITAL_OUTLAY_EXPENDITURE</th>\n",
       "      <td>-0.032814</td>\n",
       "      <td>0.948985</td>\n",
       "      <td>0.917636</td>\n",
       "      <td>0.902951</td>\n",
       "      <td>0.914740</td>\n",
       "      <td>0.849837</td>\n",
       "      <td>0.926622</td>\n",
       "      <td>0.881202</td>\n",
       "      <td>0.913650</td>\n",
       "      <td>0.924006</td>\n",
       "      <td>...</td>\n",
       "      <td>0.946564</td>\n",
       "      <td>0.944746</td>\n",
       "      <td>0.932361</td>\n",
       "      <td>0.946113</td>\n",
       "      <td>0.946143</td>\n",
       "      <td>0.947960</td>\n",
       "      <td>-0.014674</td>\n",
       "      <td>-0.034220</td>\n",
       "      <td>-0.057302</td>\n",
       "      <td>-0.128000</td>\n",
       "    </tr>\n",
       "    <tr>\n",
       "      <th>NUM_IN_PREKG</th>\n",
       "      <td>0.078929</td>\n",
       "      <td>0.786093</td>\n",
       "      <td>0.703983</td>\n",
       "      <td>0.732743</td>\n",
       "      <td>0.625777</td>\n",
       "      <td>0.716973</td>\n",
       "      <td>0.712241</td>\n",
       "      <td>0.661568</td>\n",
       "      <td>0.713270</td>\n",
       "      <td>0.743416</td>\n",
       "      <td>...</td>\n",
       "      <td>0.792454</td>\n",
       "      <td>0.775660</td>\n",
       "      <td>0.729985</td>\n",
       "      <td>0.790701</td>\n",
       "      <td>0.757327</td>\n",
       "      <td>0.791851</td>\n",
       "      <td>0.042466</td>\n",
       "      <td>0.042509</td>\n",
       "      <td>-0.017718</td>\n",
       "      <td>-0.057418</td>\n",
       "    </tr>\n",
       "    <tr>\n",
       "      <th>NUM_IN_KINDER</th>\n",
       "      <td>-0.001670</td>\n",
       "      <td>0.997168</td>\n",
       "      <td>0.929059</td>\n",
       "      <td>0.955357</td>\n",
       "      <td>0.924869</td>\n",
       "      <td>0.852772</td>\n",
       "      <td>0.931875</td>\n",
       "      <td>0.882822</td>\n",
       "      <td>0.936960</td>\n",
       "      <td>0.974488</td>\n",
       "      <td>...</td>\n",
       "      <td>0.997924</td>\n",
       "      <td>0.996507</td>\n",
       "      <td>0.987182</td>\n",
       "      <td>0.998139</td>\n",
       "      <td>0.994489</td>\n",
       "      <td>0.997866</td>\n",
       "      <td>-0.021098</td>\n",
       "      <td>-0.050304</td>\n",
       "      <td>-0.067057</td>\n",
       "      <td>-0.126154</td>\n",
       "    </tr>\n",
       "    <tr>\n",
       "      <th>NUM_IN_4TH_GRADE</th>\n",
       "      <td>-0.005796</td>\n",
       "      <td>0.998722</td>\n",
       "      <td>0.934486</td>\n",
       "      <td>0.951680</td>\n",
       "      <td>0.928967</td>\n",
       "      <td>0.861011</td>\n",
       "      <td>0.937332</td>\n",
       "      <td>0.888982</td>\n",
       "      <td>0.942405</td>\n",
       "      <td>0.974727</td>\n",
       "      <td>...</td>\n",
       "      <td>1.000000</td>\n",
       "      <td>0.998680</td>\n",
       "      <td>0.987489</td>\n",
       "      <td>0.999748</td>\n",
       "      <td>0.996128</td>\n",
       "      <td>0.999428</td>\n",
       "      <td>-0.019263</td>\n",
       "      <td>-0.045856</td>\n",
       "      <td>-0.060971</td>\n",
       "      <td>-0.119755</td>\n",
       "    </tr>\n",
       "    <tr>\n",
       "      <th>NUM_IN_8TH_GRADE</th>\n",
       "      <td>-0.025348</td>\n",
       "      <td>0.998956</td>\n",
       "      <td>0.936664</td>\n",
       "      <td>0.948299</td>\n",
       "      <td>0.933368</td>\n",
       "      <td>0.862056</td>\n",
       "      <td>0.939274</td>\n",
       "      <td>0.892087</td>\n",
       "      <td>0.944723</td>\n",
       "      <td>0.973754</td>\n",
       "      <td>...</td>\n",
       "      <td>0.998680</td>\n",
       "      <td>1.000000</td>\n",
       "      <td>0.988877</td>\n",
       "      <td>0.999261</td>\n",
       "      <td>0.997823</td>\n",
       "      <td>0.999206</td>\n",
       "      <td>-0.020407</td>\n",
       "      <td>-0.048071</td>\n",
       "      <td>-0.057157</td>\n",
       "      <td>-0.116100</td>\n",
       "    </tr>\n",
       "    <tr>\n",
       "      <th>NUM_IN_12TH_GRADE</th>\n",
       "      <td>0.017019</td>\n",
       "      <td>0.989407</td>\n",
       "      <td>0.946858</td>\n",
       "      <td>0.959721</td>\n",
       "      <td>0.951854</td>\n",
       "      <td>0.863133</td>\n",
       "      <td>0.947142</td>\n",
       "      <td>0.900579</td>\n",
       "      <td>0.956452</td>\n",
       "      <td>0.979821</td>\n",
       "      <td>...</td>\n",
       "      <td>0.987489</td>\n",
       "      <td>0.988877</td>\n",
       "      <td>1.000000</td>\n",
       "      <td>0.987391</td>\n",
       "      <td>0.995615</td>\n",
       "      <td>0.989071</td>\n",
       "      <td>0.009906</td>\n",
       "      <td>-0.014031</td>\n",
       "      <td>-0.032071</td>\n",
       "      <td>-0.079501</td>\n",
       "    </tr>\n",
       "    <tr>\n",
       "      <th>TOTAL_ENROLLED_IN_PRIMARY</th>\n",
       "      <td>-0.011034</td>\n",
       "      <td>0.999066</td>\n",
       "      <td>0.934290</td>\n",
       "      <td>0.950603</td>\n",
       "      <td>0.928415</td>\n",
       "      <td>0.861365</td>\n",
       "      <td>0.937155</td>\n",
       "      <td>0.889053</td>\n",
       "      <td>0.942147</td>\n",
       "      <td>0.974401</td>\n",
       "      <td>...</td>\n",
       "      <td>0.999748</td>\n",
       "      <td>0.999261</td>\n",
       "      <td>0.987391</td>\n",
       "      <td>1.000000</td>\n",
       "      <td>0.996572</td>\n",
       "      <td>0.999697</td>\n",
       "      <td>-0.018550</td>\n",
       "      <td>-0.046454</td>\n",
       "      <td>-0.059116</td>\n",
       "      <td>-0.119060</td>\n",
       "    </tr>\n",
       "    <tr>\n",
       "      <th>TOTAL_ENROLLED_IN_HS</th>\n",
       "      <td>-0.011126</td>\n",
       "      <td>0.997715</td>\n",
       "      <td>0.945823</td>\n",
       "      <td>0.955259</td>\n",
       "      <td>0.945752</td>\n",
       "      <td>0.867828</td>\n",
       "      <td>0.947626</td>\n",
       "      <td>0.901358</td>\n",
       "      <td>0.953852</td>\n",
       "      <td>0.978478</td>\n",
       "      <td>...</td>\n",
       "      <td>0.996128</td>\n",
       "      <td>0.997823</td>\n",
       "      <td>0.995615</td>\n",
       "      <td>0.996572</td>\n",
       "      <td>1.000000</td>\n",
       "      <td>0.997539</td>\n",
       "      <td>-0.007482</td>\n",
       "      <td>-0.035591</td>\n",
       "      <td>-0.045057</td>\n",
       "      <td>-0.103363</td>\n",
       "    </tr>\n",
       "    <tr>\n",
       "      <th>TOTAL_ENROLLED</th>\n",
       "      <td>-0.009205</td>\n",
       "      <td>0.999518</td>\n",
       "      <td>0.939751</td>\n",
       "      <td>0.952218</td>\n",
       "      <td>0.933367</td>\n",
       "      <td>0.867709</td>\n",
       "      <td>0.942548</td>\n",
       "      <td>0.895522</td>\n",
       "      <td>0.947412</td>\n",
       "      <td>0.975790</td>\n",
       "      <td>...</td>\n",
       "      <td>0.999428</td>\n",
       "      <td>0.999206</td>\n",
       "      <td>0.989071</td>\n",
       "      <td>0.999697</td>\n",
       "      <td>0.997539</td>\n",
       "      <td>1.000000</td>\n",
       "      <td>-0.013726</td>\n",
       "      <td>-0.041091</td>\n",
       "      <td>-0.053758</td>\n",
       "      <td>-0.113035</td>\n",
       "    </tr>\n",
       "    <tr>\n",
       "      <th>AVG_MATH_4_SCORE</th>\n",
       "      <td>0.332133</td>\n",
       "      <td>-0.014968</td>\n",
       "      <td>0.064045</td>\n",
       "      <td>-0.041481</td>\n",
       "      <td>0.025687</td>\n",
       "      <td>0.118781</td>\n",
       "      <td>0.059103</td>\n",
       "      <td>0.069731</td>\n",
       "      <td>0.062900</td>\n",
       "      <td>0.016915</td>\n",
       "      <td>...</td>\n",
       "      <td>-0.019263</td>\n",
       "      <td>-0.020407</td>\n",
       "      <td>0.009906</td>\n",
       "      <td>-0.018550</td>\n",
       "      <td>-0.007482</td>\n",
       "      <td>-0.013726</td>\n",
       "      <td>1.000000</td>\n",
       "      <td>0.929291</td>\n",
       "      <td>0.876969</td>\n",
       "      <td>0.847130</td>\n",
       "    </tr>\n",
       "    <tr>\n",
       "      <th>AVG_MATH_8_SCORE</th>\n",
       "      <td>0.258601</td>\n",
       "      <td>-0.043261</td>\n",
       "      <td>0.040346</td>\n",
       "      <td>-0.065495</td>\n",
       "      <td>-0.004011</td>\n",
       "      <td>0.102867</td>\n",
       "      <td>0.036923</td>\n",
       "      <td>0.046886</td>\n",
       "      <td>0.040822</td>\n",
       "      <td>-0.026509</td>\n",
       "      <td>...</td>\n",
       "      <td>-0.045856</td>\n",
       "      <td>-0.048071</td>\n",
       "      <td>-0.014031</td>\n",
       "      <td>-0.046454</td>\n",
       "      <td>-0.035591</td>\n",
       "      <td>-0.041091</td>\n",
       "      <td>0.929291</td>\n",
       "      <td>1.000000</td>\n",
       "      <td>0.834632</td>\n",
       "      <td>0.900877</td>\n",
       "    </tr>\n",
       "    <tr>\n",
       "      <th>AVG_READING_4_SCORE</th>\n",
       "      <td>0.208932</td>\n",
       "      <td>-0.051627</td>\n",
       "      <td>0.049732</td>\n",
       "      <td>-0.095399</td>\n",
       "      <td>-0.008202</td>\n",
       "      <td>0.133112</td>\n",
       "      <td>0.045667</td>\n",
       "      <td>0.072567</td>\n",
       "      <td>0.048620</td>\n",
       "      <td>-0.025062</td>\n",
       "      <td>...</td>\n",
       "      <td>-0.060971</td>\n",
       "      <td>-0.057157</td>\n",
       "      <td>-0.032071</td>\n",
       "      <td>-0.059116</td>\n",
       "      <td>-0.045057</td>\n",
       "      <td>-0.053758</td>\n",
       "      <td>0.876969</td>\n",
       "      <td>0.834632</td>\n",
       "      <td>1.000000</td>\n",
       "      <td>0.899264</td>\n",
       "    </tr>\n",
       "    <tr>\n",
       "      <th>AVG_READING_8_SCORE</th>\n",
       "      <td>0.207188</td>\n",
       "      <td>-0.112736</td>\n",
       "      <td>-0.011189</td>\n",
       "      <td>-0.141952</td>\n",
       "      <td>-0.065528</td>\n",
       "      <td>0.070512</td>\n",
       "      <td>-0.016395</td>\n",
       "      <td>0.007060</td>\n",
       "      <td>-0.008174</td>\n",
       "      <td>-0.093728</td>\n",
       "      <td>...</td>\n",
       "      <td>-0.119755</td>\n",
       "      <td>-0.116100</td>\n",
       "      <td>-0.079501</td>\n",
       "      <td>-0.119060</td>\n",
       "      <td>-0.103363</td>\n",
       "      <td>-0.113035</td>\n",
       "      <td>0.847130</td>\n",
       "      <td>0.900877</td>\n",
       "      <td>0.899264</td>\n",
       "      <td>1.000000</td>\n",
       "    </tr>\n",
       "  </tbody>\n",
       "</table>\n",
       "<p>23 rows × 23 columns</p>\n",
       "</div>"
      ],
      "text/plain": [
       "                                  YEAR  TOTAL_ENROLLED_ESTIMATE  \\\n",
       "YEAR                          1.000000                -0.015314   \n",
       "TOTAL_ENROLLED_ESTIMATE      -0.015314                 1.000000   \n",
       "TOTAL_REVENUE                 0.074545                 0.940688   \n",
       "FEDERAL_REVENUE               0.082366                 0.953046   \n",
       "STATE_REVENUE                 0.056791                 0.936003   \n",
       "LOCAL_REVENUE                 0.084071                 0.866948   \n",
       "TOTAL_EXPENDITURE             0.065000                 0.943594   \n",
       "INSTRUCTION_EXPENDITURE       0.077318                 0.897082   \n",
       "SUPPORT_SERVICES_EXPENDITURE  0.080334                 0.948572   \n",
       "OTHER_EXPENDITURE             0.068537                 0.976054   \n",
       "CAPITAL_OUTLAY_EXPENDITURE   -0.032814                 0.948985   \n",
       "NUM_IN_PREKG                  0.078929                 0.786093   \n",
       "NUM_IN_KINDER                -0.001670                 0.997168   \n",
       "NUM_IN_4TH_GRADE             -0.005796                 0.998722   \n",
       "NUM_IN_8TH_GRADE             -0.025348                 0.998956   \n",
       "NUM_IN_12TH_GRADE             0.017019                 0.989407   \n",
       "TOTAL_ENROLLED_IN_PRIMARY    -0.011034                 0.999066   \n",
       "TOTAL_ENROLLED_IN_HS         -0.011126                 0.997715   \n",
       "TOTAL_ENROLLED               -0.009205                 0.999518   \n",
       "AVG_MATH_4_SCORE              0.332133                -0.014968   \n",
       "AVG_MATH_8_SCORE              0.258601                -0.043261   \n",
       "AVG_READING_4_SCORE           0.208932                -0.051627   \n",
       "AVG_READING_8_SCORE           0.207188                -0.112736   \n",
       "\n",
       "                              TOTAL_REVENUE  FEDERAL_REVENUE  STATE_REVENUE  \\\n",
       "YEAR                               0.074545         0.082366       0.056791   \n",
       "TOTAL_ENROLLED_ESTIMATE            0.940688         0.953046       0.936003   \n",
       "TOTAL_REVENUE                      1.000000         0.920766       0.971510   \n",
       "FEDERAL_REVENUE                    0.920766         1.000000       0.919437   \n",
       "STATE_REVENUE                      0.971510         0.919437       1.000000   \n",
       "LOCAL_REVENUE                      0.964275         0.830976       0.877020   \n",
       "TOTAL_EXPENDITURE                  0.999075         0.920694       0.969901   \n",
       "INSTRUCTION_EXPENDITURE            0.988895         0.878698       0.952168   \n",
       "SUPPORT_SERVICES_EXPENDITURE       0.994445         0.924303       0.966262   \n",
       "OTHER_EXPENDITURE                  0.941214         0.954431       0.942671   \n",
       "CAPITAL_OUTLAY_EXPENDITURE         0.917636         0.902951       0.914740   \n",
       "NUM_IN_PREKG                       0.703983         0.732743       0.625777   \n",
       "NUM_IN_KINDER                      0.929059         0.955357       0.924869   \n",
       "NUM_IN_4TH_GRADE                   0.934486         0.951680       0.928967   \n",
       "NUM_IN_8TH_GRADE                   0.936664         0.948299       0.933368   \n",
       "NUM_IN_12TH_GRADE                  0.946858         0.959721       0.951854   \n",
       "TOTAL_ENROLLED_IN_PRIMARY          0.934290         0.950603       0.928415   \n",
       "TOTAL_ENROLLED_IN_HS               0.945823         0.955259       0.945752   \n",
       "TOTAL_ENROLLED                     0.939751         0.952218       0.933367   \n",
       "AVG_MATH_4_SCORE                   0.064045        -0.041481       0.025687   \n",
       "AVG_MATH_8_SCORE                   0.040346        -0.065495      -0.004011   \n",
       "AVG_READING_4_SCORE                0.049732        -0.095399      -0.008202   \n",
       "AVG_READING_8_SCORE               -0.011189        -0.141952      -0.065528   \n",
       "\n",
       "                              LOCAL_REVENUE  TOTAL_EXPENDITURE  \\\n",
       "YEAR                               0.084071           0.065000   \n",
       "TOTAL_ENROLLED_ESTIMATE            0.866948           0.943594   \n",
       "TOTAL_REVENUE                      0.964275           0.999075   \n",
       "FEDERAL_REVENUE                    0.830976           0.920694   \n",
       "STATE_REVENUE                      0.877020           0.969901   \n",
       "LOCAL_REVENUE                      1.000000           0.963903   \n",
       "TOTAL_EXPENDITURE                  0.963903           1.000000   \n",
       "INSTRUCTION_EXPENDITURE            0.968711           0.989244   \n",
       "SUPPORT_SERVICES_EXPENDITURE       0.956913           0.993013   \n",
       "OTHER_EXPENDITURE                  0.861296           0.941769   \n",
       "CAPITAL_OUTLAY_EXPENDITURE         0.849837           0.926622   \n",
       "NUM_IN_PREKG                       0.716973           0.712241   \n",
       "NUM_IN_KINDER                      0.852772           0.931875   \n",
       "NUM_IN_4TH_GRADE                   0.861011           0.937332   \n",
       "NUM_IN_8TH_GRADE                   0.862056           0.939274   \n",
       "NUM_IN_12TH_GRADE                  0.863133           0.947142   \n",
       "TOTAL_ENROLLED_IN_PRIMARY          0.861365           0.937155   \n",
       "TOTAL_ENROLLED_IN_HS               0.867828           0.947626   \n",
       "TOTAL_ENROLLED                     0.867709           0.942548   \n",
       "AVG_MATH_4_SCORE                   0.118781           0.059103   \n",
       "AVG_MATH_8_SCORE                   0.102867           0.036923   \n",
       "AVG_READING_4_SCORE                0.133112           0.045667   \n",
       "AVG_READING_8_SCORE                0.070512          -0.016395   \n",
       "\n",
       "                              INSTRUCTION_EXPENDITURE  \\\n",
       "YEAR                                         0.077318   \n",
       "TOTAL_ENROLLED_ESTIMATE                      0.897082   \n",
       "TOTAL_REVENUE                                0.988895   \n",
       "FEDERAL_REVENUE                              0.878698   \n",
       "STATE_REVENUE                                0.952168   \n",
       "LOCAL_REVENUE                                0.968711   \n",
       "TOTAL_EXPENDITURE                            0.989244   \n",
       "INSTRUCTION_EXPENDITURE                      1.000000   \n",
       "SUPPORT_SERVICES_EXPENDITURE                 0.973395   \n",
       "OTHER_EXPENDITURE                            0.896064   \n",
       "CAPITAL_OUTLAY_EXPENDITURE                   0.881202   \n",
       "NUM_IN_PREKG                                 0.661568   \n",
       "NUM_IN_KINDER                                0.882822   \n",
       "NUM_IN_4TH_GRADE                             0.888982   \n",
       "NUM_IN_8TH_GRADE                             0.892087   \n",
       "NUM_IN_12TH_GRADE                            0.900579   \n",
       "TOTAL_ENROLLED_IN_PRIMARY                    0.889053   \n",
       "TOTAL_ENROLLED_IN_HS                         0.901358   \n",
       "TOTAL_ENROLLED                               0.895522   \n",
       "AVG_MATH_4_SCORE                             0.069731   \n",
       "AVG_MATH_8_SCORE                             0.046886   \n",
       "AVG_READING_4_SCORE                          0.072567   \n",
       "AVG_READING_8_SCORE                          0.007060   \n",
       "\n",
       "                              SUPPORT_SERVICES_EXPENDITURE  OTHER_EXPENDITURE  \\\n",
       "YEAR                                              0.080334           0.068537   \n",
       "TOTAL_ENROLLED_ESTIMATE                           0.948572           0.976054   \n",
       "TOTAL_REVENUE                                     0.994445           0.941214   \n",
       "FEDERAL_REVENUE                                   0.924303           0.954431   \n",
       "STATE_REVENUE                                     0.966262           0.942671   \n",
       "LOCAL_REVENUE                                     0.956913           0.861296   \n",
       "TOTAL_EXPENDITURE                                 0.993013           0.941769   \n",
       "INSTRUCTION_EXPENDITURE                           0.973395           0.896064   \n",
       "SUPPORT_SERVICES_EXPENDITURE                      1.000000           0.949354   \n",
       "OTHER_EXPENDITURE                                 0.949354           1.000000   \n",
       "CAPITAL_OUTLAY_EXPENDITURE                        0.913650           0.924006   \n",
       "NUM_IN_PREKG                                      0.713270           0.743416   \n",
       "NUM_IN_KINDER                                     0.936960           0.974488   \n",
       "NUM_IN_4TH_GRADE                                  0.942405           0.974727   \n",
       "NUM_IN_8TH_GRADE                                  0.944723           0.973754   \n",
       "NUM_IN_12TH_GRADE                                 0.956452           0.979821   \n",
       "TOTAL_ENROLLED_IN_PRIMARY                         0.942147           0.974401   \n",
       "TOTAL_ENROLLED_IN_HS                              0.953852           0.978478   \n",
       "TOTAL_ENROLLED                                    0.947412           0.975790   \n",
       "AVG_MATH_4_SCORE                                  0.062900           0.016915   \n",
       "AVG_MATH_8_SCORE                                  0.040822          -0.026509   \n",
       "AVG_READING_4_SCORE                               0.048620          -0.025062   \n",
       "AVG_READING_8_SCORE                              -0.008174          -0.093728   \n",
       "\n",
       "                              ...  NUM_IN_4TH_GRADE  NUM_IN_8TH_GRADE  \\\n",
       "YEAR                          ...         -0.005796         -0.025348   \n",
       "TOTAL_ENROLLED_ESTIMATE       ...          0.998722          0.998956   \n",
       "TOTAL_REVENUE                 ...          0.934486          0.936664   \n",
       "FEDERAL_REVENUE               ...          0.951680          0.948299   \n",
       "STATE_REVENUE                 ...          0.928967          0.933368   \n",
       "LOCAL_REVENUE                 ...          0.861011          0.862056   \n",
       "TOTAL_EXPENDITURE             ...          0.937332          0.939274   \n",
       "INSTRUCTION_EXPENDITURE       ...          0.888982          0.892087   \n",
       "SUPPORT_SERVICES_EXPENDITURE  ...          0.942405          0.944723   \n",
       "OTHER_EXPENDITURE             ...          0.974727          0.973754   \n",
       "CAPITAL_OUTLAY_EXPENDITURE    ...          0.946564          0.944746   \n",
       "NUM_IN_PREKG                  ...          0.792454          0.775660   \n",
       "NUM_IN_KINDER                 ...          0.997924          0.996507   \n",
       "NUM_IN_4TH_GRADE              ...          1.000000          0.998680   \n",
       "NUM_IN_8TH_GRADE              ...          0.998680          1.000000   \n",
       "NUM_IN_12TH_GRADE             ...          0.987489          0.988877   \n",
       "TOTAL_ENROLLED_IN_PRIMARY     ...          0.999748          0.999261   \n",
       "TOTAL_ENROLLED_IN_HS          ...          0.996128          0.997823   \n",
       "TOTAL_ENROLLED                ...          0.999428          0.999206   \n",
       "AVG_MATH_4_SCORE              ...         -0.019263         -0.020407   \n",
       "AVG_MATH_8_SCORE              ...         -0.045856         -0.048071   \n",
       "AVG_READING_4_SCORE           ...         -0.060971         -0.057157   \n",
       "AVG_READING_8_SCORE           ...         -0.119755         -0.116100   \n",
       "\n",
       "                              NUM_IN_12TH_GRADE  TOTAL_ENROLLED_IN_PRIMARY  \\\n",
       "YEAR                                   0.017019                  -0.011034   \n",
       "TOTAL_ENROLLED_ESTIMATE                0.989407                   0.999066   \n",
       "TOTAL_REVENUE                          0.946858                   0.934290   \n",
       "FEDERAL_REVENUE                        0.959721                   0.950603   \n",
       "STATE_REVENUE                          0.951854                   0.928415   \n",
       "LOCAL_REVENUE                          0.863133                   0.861365   \n",
       "TOTAL_EXPENDITURE                      0.947142                   0.937155   \n",
       "INSTRUCTION_EXPENDITURE                0.900579                   0.889053   \n",
       "SUPPORT_SERVICES_EXPENDITURE           0.956452                   0.942147   \n",
       "OTHER_EXPENDITURE                      0.979821                   0.974401   \n",
       "CAPITAL_OUTLAY_EXPENDITURE             0.932361                   0.946113   \n",
       "NUM_IN_PREKG                           0.729985                   0.790701   \n",
       "NUM_IN_KINDER                          0.987182                   0.998139   \n",
       "NUM_IN_4TH_GRADE                       0.987489                   0.999748   \n",
       "NUM_IN_8TH_GRADE                       0.988877                   0.999261   \n",
       "NUM_IN_12TH_GRADE                      1.000000                   0.987391   \n",
       "TOTAL_ENROLLED_IN_PRIMARY              0.987391                   1.000000   \n",
       "TOTAL_ENROLLED_IN_HS                   0.995615                   0.996572   \n",
       "TOTAL_ENROLLED                         0.989071                   0.999697   \n",
       "AVG_MATH_4_SCORE                       0.009906                  -0.018550   \n",
       "AVG_MATH_8_SCORE                      -0.014031                  -0.046454   \n",
       "AVG_READING_4_SCORE                   -0.032071                  -0.059116   \n",
       "AVG_READING_8_SCORE                   -0.079501                  -0.119060   \n",
       "\n",
       "                              TOTAL_ENROLLED_IN_HS  TOTAL_ENROLLED  \\\n",
       "YEAR                                     -0.011126       -0.009205   \n",
       "TOTAL_ENROLLED_ESTIMATE                   0.997715        0.999518   \n",
       "TOTAL_REVENUE                             0.945823        0.939751   \n",
       "FEDERAL_REVENUE                           0.955259        0.952218   \n",
       "STATE_REVENUE                             0.945752        0.933367   \n",
       "LOCAL_REVENUE                             0.867828        0.867709   \n",
       "TOTAL_EXPENDITURE                         0.947626        0.942548   \n",
       "INSTRUCTION_EXPENDITURE                   0.901358        0.895522   \n",
       "SUPPORT_SERVICES_EXPENDITURE              0.953852        0.947412   \n",
       "OTHER_EXPENDITURE                         0.978478        0.975790   \n",
       "CAPITAL_OUTLAY_EXPENDITURE                0.946143        0.947960   \n",
       "NUM_IN_PREKG                              0.757327        0.791851   \n",
       "NUM_IN_KINDER                             0.994489        0.997866   \n",
       "NUM_IN_4TH_GRADE                          0.996128        0.999428   \n",
       "NUM_IN_8TH_GRADE                          0.997823        0.999206   \n",
       "NUM_IN_12TH_GRADE                         0.995615        0.989071   \n",
       "TOTAL_ENROLLED_IN_PRIMARY                 0.996572        0.999697   \n",
       "TOTAL_ENROLLED_IN_HS                      1.000000        0.997539   \n",
       "TOTAL_ENROLLED                            0.997539        1.000000   \n",
       "AVG_MATH_4_SCORE                         -0.007482       -0.013726   \n",
       "AVG_MATH_8_SCORE                         -0.035591       -0.041091   \n",
       "AVG_READING_4_SCORE                      -0.045057       -0.053758   \n",
       "AVG_READING_8_SCORE                      -0.103363       -0.113035   \n",
       "\n",
       "                              AVG_MATH_4_SCORE  AVG_MATH_8_SCORE  \\\n",
       "YEAR                                  0.332133          0.258601   \n",
       "TOTAL_ENROLLED_ESTIMATE              -0.014968         -0.043261   \n",
       "TOTAL_REVENUE                         0.064045          0.040346   \n",
       "FEDERAL_REVENUE                      -0.041481         -0.065495   \n",
       "STATE_REVENUE                         0.025687         -0.004011   \n",
       "LOCAL_REVENUE                         0.118781          0.102867   \n",
       "TOTAL_EXPENDITURE                     0.059103          0.036923   \n",
       "INSTRUCTION_EXPENDITURE               0.069731          0.046886   \n",
       "SUPPORT_SERVICES_EXPENDITURE          0.062900          0.040822   \n",
       "OTHER_EXPENDITURE                     0.016915         -0.026509   \n",
       "CAPITAL_OUTLAY_EXPENDITURE           -0.014674         -0.034220   \n",
       "NUM_IN_PREKG                          0.042466          0.042509   \n",
       "NUM_IN_KINDER                        -0.021098         -0.050304   \n",
       "NUM_IN_4TH_GRADE                     -0.019263         -0.045856   \n",
       "NUM_IN_8TH_GRADE                     -0.020407         -0.048071   \n",
       "NUM_IN_12TH_GRADE                     0.009906         -0.014031   \n",
       "TOTAL_ENROLLED_IN_PRIMARY            -0.018550         -0.046454   \n",
       "TOTAL_ENROLLED_IN_HS                 -0.007482         -0.035591   \n",
       "TOTAL_ENROLLED                       -0.013726         -0.041091   \n",
       "AVG_MATH_4_SCORE                      1.000000          0.929291   \n",
       "AVG_MATH_8_SCORE                      0.929291          1.000000   \n",
       "AVG_READING_4_SCORE                   0.876969          0.834632   \n",
       "AVG_READING_8_SCORE                   0.847130          0.900877   \n",
       "\n",
       "                              AVG_READING_4_SCORE  AVG_READING_8_SCORE  \n",
       "YEAR                                     0.208932             0.207188  \n",
       "TOTAL_ENROLLED_ESTIMATE                 -0.051627            -0.112736  \n",
       "TOTAL_REVENUE                            0.049732            -0.011189  \n",
       "FEDERAL_REVENUE                         -0.095399            -0.141952  \n",
       "STATE_REVENUE                           -0.008202            -0.065528  \n",
       "LOCAL_REVENUE                            0.133112             0.070512  \n",
       "TOTAL_EXPENDITURE                        0.045667            -0.016395  \n",
       "INSTRUCTION_EXPENDITURE                  0.072567             0.007060  \n",
       "SUPPORT_SERVICES_EXPENDITURE             0.048620            -0.008174  \n",
       "OTHER_EXPENDITURE                       -0.025062            -0.093728  \n",
       "CAPITAL_OUTLAY_EXPENDITURE              -0.057302            -0.128000  \n",
       "NUM_IN_PREKG                            -0.017718            -0.057418  \n",
       "NUM_IN_KINDER                           -0.067057            -0.126154  \n",
       "NUM_IN_4TH_GRADE                        -0.060971            -0.119755  \n",
       "NUM_IN_8TH_GRADE                        -0.057157            -0.116100  \n",
       "NUM_IN_12TH_GRADE                       -0.032071            -0.079501  \n",
       "TOTAL_ENROLLED_IN_PRIMARY               -0.059116            -0.119060  \n",
       "TOTAL_ENROLLED_IN_HS                    -0.045057            -0.103363  \n",
       "TOTAL_ENROLLED                          -0.053758            -0.113035  \n",
       "AVG_MATH_4_SCORE                         0.876969             0.847130  \n",
       "AVG_MATH_8_SCORE                         0.834632             0.900877  \n",
       "AVG_READING_4_SCORE                      1.000000             0.899264  \n",
       "AVG_READING_8_SCORE                      0.899264             1.000000  \n",
       "\n",
       "[23 rows x 23 columns]"
      ]
     },
     "execution_count": 42,
     "metadata": {},
     "output_type": "execute_result"
    }
   ],
   "source": [
    "cleaned_df.corr()"
   ]
  },
  {
   "cell_type": "markdown",
   "metadata": {},
   "source": [
    "Intutively,we know that as we are going to predict the "
   ]
  },
  {
   "cell_type": "markdown",
   "metadata": {},
   "source": [
    "Final feature list: **<LIST FEATURES HERE\\>**"
   ]
  },
  {
   "cell_type": "markdown",
   "metadata": {},
   "source": [
    "Feature selection justification: **<BRIEFLY DESCRIBE WHY YOU PICKED THESE FEATURES\\>**"
   ]
  },
  {
   "cell_type": "markdown",
   "metadata": {},
   "source": [
    "<h2>Visualization</h2>\n",
    "\n",
    "Use any graph you wish to see the relationship of your chosen predictor with any features you chose\n",
    "\n",
    "**Visualization 1**"
   ]
  },
  {
   "cell_type": "code",
   "execution_count": 43,
   "metadata": {},
   "outputs": [
    {
     "data": {
      "text/plain": [
       "<AxesSubplot:xlabel='YEAR', ylabel='AVG_READING_4_SCORE'>"
      ]
     },
     "execution_count": 43,
     "metadata": {},
     "output_type": "execute_result"
    },
    {
     "data": {
      "image/png": "[encoded data removed]",
      "text/plain": [
       "<Figure size 432x288 with 1 Axes>"
      ]
     },
     "metadata": {
      "needs_background": "light"
     },
     "output_type": "display_data"
    }
   ],
   "source": [
    "sns.lineplot(data=cleaned_df, x=\"YEAR\", y=\"AVG_READING_4_SCORE\")"
   ]
  },
  {
   "cell_type": "markdown",
   "metadata": {},
   "source": [
    "**HOW THE AVERAGE READING SCORE OF CLASS 4 STUDENTS VARIED OVER THE YEARS**"
   ]
  },
  {
   "cell_type": "markdown",
   "metadata": {},
   "source": [
    "**Visualization 2**"
   ]
  },
  {
   "cell_type": "code",
   "execution_count": 44,
   "metadata": {},
   "outputs": [
    {
     "data": {
      "text/plain": [
       "<AxesSubplot:xlabel='INSTRUCTION_EXPENDITURE', ylabel='AVG_READING_4_SCORE'>"
      ]
     },
     "execution_count": 44,
     "metadata": {},
     "output_type": "execute_result"
    },
    {
     "data": {
      "image/png": "[encoded data removed]",
      "text/plain": [
       "<Figure size 432x288 with 1 Axes>"
      ]
     },
     "metadata": {
      "needs_background": "light"
     },
     "output_type": "display_data"
    }
   ],
   "source": [
    "sns.scatterplot(data=cleaned_df, x=\"INSTRUCTION_EXPENDITURE\", y=\"AVG_READING_4_SCORE\")\n"
   ]
  },
  {
   "cell_type": "markdown",
   "metadata": {},
   "source": [
    "**How the instruction expenditure influences the average reading score of class 4 students**"
   ]
  },
  {
   "cell_type": "markdown",
   "metadata": {},
   "source": [
    "<h2> Data Creation </h2>\n",
    "\n",
    "_Use this space to create train/test data_"
   ]
  },
  {
   "cell_type": "code",
   "execution_count": 45,
   "metadata": {},
   "outputs": [],
   "source": [
    "from sklearn.model_selection import train_test_split"
   ]
  },
  {
   "cell_type": "code",
   "execution_count": 46,
   "metadata": {},
   "outputs": [],
   "source": [
    "X = cleaned_df.loc[:,\"YEAR\":\"AVG_MATH_8_SCORE\"]\n",
    "X[\"AVG_READING_8_SCORE\"]=cleaned_df[\"AVG_READING_8_SCORE\"]\n",
    "y = cleaned_df[\"AVG_READING_4_SCORE\"]"
   ]
  },
  {
   "cell_type": "code",
   "execution_count": 47,
   "metadata": {},
   "outputs": [],
   "source": [
    "X_train, X_test, y_train, y_test = train_test_split(\n",
    "     X, y, random_state=0)"
   ]
  },
  {
   "cell_type": "code",
   "execution_count": 48,
   "metadata": {},
   "outputs": [],
   "source": [
    "from sklearn.preprocessing import StandardScaler\n",
    "scaler = StandardScaler()\n",
    "\n",
    "X_train_scaled = scaler.fit_transform(X_train)\n",
    "X_test_scaled = scaler.transform(X_test)"
   ]
  },
  {
   "cell_type": "markdown",
   "metadata": {},
   "source": [
    "<h2> Prediction </h2>"
   ]
  },
  {
   "cell_type": "markdown",
   "metadata": {},
   "source": [
    "ML Models Resource: https://medium.com/@vijaya.beeravalli/comparison-of-machine-learning-classification-models-for-credit-card-default-data-c3cf805c9a5a"
   ]
  },
  {
   "cell_type": "markdown",
   "metadata": {},
   "source": [
    "Chosen ML task: **<REGRESSION/CLASSIFICATION>**\n",
    "\n",
    "Regression"
   ]
  },
  {
   "cell_type": "code",
   "execution_count": 49,
   "metadata": {},
   "outputs": [],
   "source": [
    "# import your sklearn class here\n",
    "from sklearn.linear_model import LinearRegression"
   ]
  },
  {
   "cell_type": "code",
   "execution_count": 50,
   "metadata": {},
   "outputs": [],
   "source": [
    "# create your model here\n",
    "model = LinearRegression().fit(X_train_scaled, y_train)"
   ]
  },
  {
   "cell_type": "code",
   "execution_count": 51,
   "metadata": {},
   "outputs": [
    {
     "data": {
      "text/plain": [
       "LinearRegression()"
      ]
     },
     "execution_count": 51,
     "metadata": {},
     "output_type": "execute_result"
    }
   ],
   "source": [
    "model.fit(X_train_scaled, y_train)"
   ]
  },
  {
   "cell_type": "code",
   "execution_count": 52,
   "metadata": {},
   "outputs": [],
   "source": [
    "y_pred = model.predict(X_test_scaled)"
   ]
  },
  {
   "cell_type": "code",
   "execution_count": null,
   "metadata": {},
   "outputs": [],
   "source": [
    "# FOR CLASSIFICATION ONLY:\n",
    "from sklearn.metrics import plot_confusion_matrix\n",
    "\n",
    "plot_confusion_matrix(model, X_test, y_test,\n",
    "                         cmap=plt.cm.Blues)"
   ]
  },
  {
   "cell_type": "code",
   "execution_count": 55,
   "metadata": {},
   "outputs": [
    {
     "data": {
      "text/plain": [
       "Text(0, 0.5, 'AVG_READING_4_SCORE')"
      ]
     },
     "execution_count": 55,
     "metadata": {},
     "output_type": "execute_result"
    },
    {
     "data": {
      "image/png": "[encoded data removed]",
      "text/plain": [
       "<Figure size 864x432 with 1 Axes>"
      ]
     },
     "metadata": {
      "needs_background": "light"
     },
     "output_type": "display_data"
    }
   ],
   "source": [
    "# FOR REGRESSION ONLY: (pick a single column to visualize results)\n",
    "\n",
    "# Results from this graph _should not_ be used as a part of your results -- it is just here to help with intuition. \n",
    "# Instead, look at the error values and individual intercepts.\n",
    "\n",
    "\n",
    "col_name = \"YEAR\"\n",
    "col_index = X_train.columns.get_loc(col_name)\n",
    "\n",
    "f = plt.figure(figsize=(12,6))\n",
    "plt.scatter(X_train[col_name], y_train, color = \"red\")\n",
    "plt.scatter(X_train[col_name], model.predict(X_train), color = \"green\")\n",
    "plt.scatter(X_test[col_name], model.predict(X_test), color = \"blue\")\n",
    "\n",
    "new_x = np.linspace(X_train[col_name].min(),X_train[col_name].max(),200)\n",
    "intercept = model.predict([X_train.sort_values(col_name).iloc[0]]) - X_train[col_name].min()*model.coef_[col_index]\n",
    "plt.plot(new_x, intercept+new_x*model.coef_[col_index])\n",
    "\n",
    "plt.legend(['controlled model','true training','predicted training','predicted testing'])\n",
    "plt.xlabel(col_name)\n",
    "plt.ylabel(\"AVG_READING_4_SCORE\")"
   ]
  },
  {
   "cell_type": "markdown",
   "metadata": {},
   "source": [
    "<h2> Summary </h2>"
   ]
  },
  {
   "cell_type": "markdown",
   "metadata": {},
   "source": [
    "**<WRITE A PARAGRAPH SUMMARIZING YOUR WORK AND FINDINGS\\>**"
   ]
  },
  {
   "cell_type": "code",
   "execution_count": 56,
   "metadata": {},
   "outputs": [
    {
     "name": "stdout",
     "output_type": "stream",
     "text": [
      "linear model coeff (w): [ -0.24449079  12.14959443  -1.53598698  -1.63606968  -1.7007273\n",
      "  -1.24969678   3.17653068   1.79191719   1.42378771   1.24832224\n",
      "  -0.99996043   0.15043261   1.1212682    1.51841392 -23.45312228\n",
      " -14.57822878  32.06409065  37.96717933 -47.48762306   4.6053576\n",
      "  -2.67435858   4.71472729]\n",
      "linear model intercept (b): 220.075\n",
      "R-squared score (training): 0.911\n",
      "R-squared score (test): 0.850\n"
     ]
    }
   ],
   "source": [
    "print('linear model coeff (w): {}'\n",
    "     .format(model.coef_))\n",
    "print('linear model intercept (b): {:.3f}'\n",
    "     .format(model.intercept_))\n",
    "print('R-squared score (training): {:.3f}'\n",
    "     .format(model.score(X_train_scaled, y_train)))\n",
    "print('R-squared score (test): {:.3f}'\n",
    "     .format(model.score(X_test_scaled, y_test)))"
   ]
  },
  {
   "cell_type": "code",
   "execution_count": null,
   "metadata": {},
   "outputs": [],
   "source": []
  },
  {
   "cell_type": "code",
   "execution_count": null,
   "metadata": {},
   "outputs": [],
   "source": []
  }
 ],
 "metadata": {
  "kernelspec": {
   "display_name": "Python 3",
   "language": "python",
   "name": "python3"
  },
  "language_info": {
   "codemirror_mode": {
    "name": "ipython",
    "version": 3
   },
   "file_extension": ".py",
   "mimetype": "text/x-python",
   "name": "python",
   "nbconvert_exporter": "python",
   "pygments_lexer": "ipython3",
   "version": "3.8.8"
  }
 },
 "nbformat": 4,
 "nbformat_minor": 4
}
